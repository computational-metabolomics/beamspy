{
 "cells": [
  {
   "cell_type": "code",
   "execution_count": 4,
   "metadata": {
    "collapsed": true,
    "pycharm": {
     "is_executing": false
    }
   },
   "outputs": [],
   "source": [
    "#!/usr/bin/python\n",
    "# -*- coding: utf-8 -*-\n",
    "\n",
    "import os\n",
    "import networkx as nx\n",
    "from beams import in_out\n",
    "from beams.grouping import group_features\n",
    "from beams.annotation import annotate_adducts\n",
    "from beams.annotation import annotate_isotopes\n",
    "from beams.annotation import annotate_oligomers\n",
    "from beams.annotation import annotate_multiple_charged_ions\n",
    "from beams.annotation import annotate_compounds\n",
    "from beams.annotation import annotate_molecular_formulae\n",
    "from beams.annotation import summary\n",
    "from beams import plots"
   ]
  },
  {
   "cell_type": "code",
   "execution_count": 5,
   "outputs": [
    {
     "name": "stderr",
     "text": [
      "\r  0%|          | 0/400 [00:00<?, ?it/s]",
      "\r  0%|          | 2/400 [00:00<00:20, 18.95it/s]",
      "\r  1%|          | 4/400 [00:00<00:22, 17.24it/s]",
      "\r  2%|▏         | 6/400 [00:00<00:22, 17.46it/s]",
      "\r  2%|▏         | 8/400 [00:00<00:21, 17.89it/s]",
      "\r  2%|▎         | 10/400 [00:00<00:22, 17.21it/s]",
      "\r  3%|▎         | 13/400 [00:00<00:21, 18.15it/s]",
      "\r  4%|▍         | 16/400 [00:00<00:20, 18.79it/s]",
      "\r  4%|▍         | 18/400 [00:01<00:21, 17.76it/s]",
      "\r  5%|▌         | 21/400 [00:01<00:20, 18.72it/s]",
      "\r  6%|▌         | 23/400 [00:01<00:19, 19.06it/s]",
      "\r  6%|▋         | 25/400 [00:01<00:20, 17.93it/s]",
      "\r  7%|▋         | 28/400 [00:01<00:19, 18.92it/s]",
      "\r  8%|▊         | 31/400 [00:01<00:18, 19.61it/s]",
      "\r  8%|▊         | 33/400 [00:01<00:19, 18.39it/s]",
      "\r  9%|▉         | 35/400 [00:01<00:19, 18.69it/s]",
      "\r 10%|▉         | 38/400 [00:02<00:18, 19.54it/s]",
      "\r 10%|█         | 40/400 [00:02<00:20, 17.76it/s]",
      "\r 11%|█         | 43/400 [00:02<00:19, 18.71it/s]",
      "\r 12%|█▏        | 46/400 [00:02<00:18, 19.60it/s]",
      "\r 12%|█▏        | 49/400 [00:02<00:18, 18.91it/s]",
      "\r 13%|█▎        | 52/400 [00:02<00:17, 19.96it/s]",
      "\r 14%|█▍        | 55/400 [00:02<00:16, 20.69it/s]",
      "\r 14%|█▍        | 58/400 [00:03<00:17, 19.67it/s]",
      "\r 15%|█▌        | 61/400 [00:03<00:16, 20.03it/s]",
      "\r 16%|█▌        | 64/400 [00:03<00:17, 19.51it/s]",
      "\r 16%|█▋        | 66/400 [00:03<00:18, 17.91it/s]",
      "\r 17%|█▋        | 69/400 [00:03<00:17, 19.00it/s]",
      "\r 18%|█▊        | 71/400 [00:03<00:17, 19.18it/s]",
      "\r 18%|█▊        | 74/400 [00:03<00:16, 19.92it/s]",
      "\r 19%|█▉        | 77/400 [00:03<00:15, 21.37it/s]",
      "\r 20%|██        | 80/400 [00:04<00:15, 20.36it/s]",
      "\r 21%|██        | 83/400 [00:04<00:14, 21.75it/s]",
      "\r 22%|██▏       | 86/400 [00:04<00:13, 22.53it/s]",
      "\r 22%|██▏       | 89/400 [00:04<00:13, 22.38it/s]",
      "\r 23%|██▎       | 92/400 [00:04<00:13, 23.16it/s]",
      "\r 24%|██▍       | 95/400 [00:04<00:12, 24.71it/s]",
      "\r 24%|██▍       | 98/400 [00:04<00:13, 23.10it/s]",
      "\r 25%|██▌       | 101/400 [00:04<00:12, 23.78it/s]",
      "\r 26%|██▌       | 104/400 [00:05<00:12, 24.07it/s]",
      "\r 27%|██▋       | 107/400 [00:05<00:12, 23.40it/s]",
      "\r 28%|██▊       | 110/400 [00:05<00:11, 24.96it/s]",
      "\r 28%|██▊       | 114/400 [00:05<00:10, 26.46it/s]",
      "\r 29%|██▉       | 117/400 [00:05<00:10, 27.02it/s]",
      "\r 30%|███       | 121/400 [00:05<00:09, 28.62it/s]",
      "\r 31%|███       | 124/400 [00:05<00:09, 28.93it/s]",
      "\r 32%|███▏      | 128/400 [00:05<00:09, 28.88it/s]",
      "\r 33%|███▎      | 132/400 [00:06<00:08, 30.36it/s]",
      "\r 34%|███▍      | 136/400 [00:06<00:08, 31.68it/s]",
      "\r 35%|███▌      | 140/400 [00:06<00:08, 30.15it/s]",
      "\r 36%|███▌      | 144/400 [00:06<00:07, 32.12it/s]",
      "\r 37%|███▋      | 149/400 [00:06<00:07, 34.28it/s]",
      "\r 38%|███▊      | 153/400 [00:06<00:07, 34.74it/s]",
      "\r 40%|███▉      | 158/400 [00:06<00:06, 37.38it/s]",
      "\r 41%|████      | 163/400 [00:06<00:06, 38.57it/s]",
      "\r 42%|████▏     | 168/400 [00:07<00:05, 39.68it/s]",
      "\r 43%|████▎     | 173/400 [00:07<00:05, 42.09it/s]",
      "\r 44%|████▍     | 178/400 [00:07<00:05, 44.18it/s]",
      "\r 46%|████▌     | 184/400 [00:07<00:04, 45.11it/s]",
      "\r 47%|████▋     | 189/400 [00:07<00:04, 45.83it/s]",
      "\r 49%|████▉     | 195/400 [00:07<00:04, 49.32it/s]",
      "\r 50%|█████     | 202/400 [00:07<00:03, 54.05it/s]",
      "\r 52%|█████▏    | 208/400 [00:07<00:03, 53.05it/s]",
      "\r 54%|█████▍    | 217/400 [00:07<00:03, 60.25it/s]",
      "\r 57%|█████▋    | 228/400 [00:07<00:02, 69.58it/s]",
      "\r 61%|██████▏   | 245/400 [00:08<00:01, 83.62it/s]",
      "\r 68%|██████▊   | 270/400 [00:08<00:01, 104.35it/s]",
      "\r 83%|████████▎ | 332/400 [00:08<00:00, 138.95it/s]",
      "\r 91%|█████████ | 363/400 [00:08<00:00, 165.84it/s]",
      "\r100%|██████████| 400/400 [00:08<00:00, 47.19it/s] ",
      "\n"
     ],
     "output_type": "stream"
    }
   ],
   "source": [
    "path = \"../tests/test_data/\"\n",
    "fn_peaklist = os.path.join(path, \"variableMetadata.txt\")\n",
    "fn_matrix = os.path.join(path, \"dataMatrix.txt\")\n",
    "\n",
    "df = in_out.combine_peaklist_matrix(fn_peaklist, fn_matrix)\n",
    "\n",
    "ion_mode = \"pos\"\n",
    "\n",
    "db_out = \"results_{}.sqlite\".format(ion_mode)\n",
    "\n",
    "graphs = group_features(df, db_out, max_rt_diff=5.0, coeff_thres=0.7, pvalue_thres=0.01, method=\"pearson\")\n",
    "\n",
    "nx.write_gml(graphs, \"graphs.gml\")\n",
    "graphs = nx.read_gml(\"graphs.gml\")"
   ],
   "metadata": {
    "collapsed": false,
    "pycharm": {
     "name": "#%%\n",
     "is_executing": false
    }
   }
  },
  {
   "cell_type": "code",
   "execution_count": 6,
   "outputs": [
    {
     "name": "stdout",
     "text": [
      "Isotopes in library:\n--------------------------------------------\nlabel_x\tlabel_y\tmass_difference\tabundance_x\tabundance_y\nC\t(13C)\t1.003355\t100.0\t1.1\nS\t(34S)\t1.995796\t100.0\t4.21\nK\t(41K)\t1.998117\t100.0\t6.73\n",
      "\n",
      "Adducts in library\n-----------------\nname\texact_mass\tion_mode\n[M+H]+\t1.0072764\n[M+Na]+\t22.9892214\n[M+K]+\t38.9631594\n",
      "\n"
     ],
     "output_type": "stream"
    }
   ],
   "source": [
    "path = \"../beams/data\"\n",
    "lib_isotopes = in_out.read_isotopes(os.path.join(path, \"isotopes.txt\"), ion_mode)\n",
    "lib_adducts = in_out.read_adducts(os.path.join(path, \"adducts.txt\"), ion_mode)\n",
    "lib_multiple_charged_ions = in_out.read_multiple_charged_ions(os.path.join(path, \"multiple_charged_ions.txt\"), ion_mode)\n",
    "lib_mass_differences = in_out.read_mass_differences(os.path.join(path, \"multiple_charged_differences.txt\"), ion_mode)\n",
    "\n",
    "print(lib_isotopes)\n",
    "print(lib_adducts)\n",
    "\n",
    "ppm = 5.0\n",
    "\n",
    "annotate_adducts(graphs, db_out, ppm, lib_adducts)\n",
    "annotate_isotopes(graphs, db_out, ppm, lib_isotopes)\n",
    "annotate_oligomers(graphs, db_out, ppm, lib_adducts)\n",
    "annotate_multiple_charged_ions(graphs, db_out, ppm, lib_multiple_charged_ions)\n",
    "\n",
    "# annotate_molecular_formulae(df, lib_adducts, ppm, db_out)\n",
    "annotate_compounds(df, lib_adducts, ppm, db_out, \"lipidmaps_full_20181217_v1\")"
   ],
   "metadata": {
    "collapsed": false,
    "pycharm": {
     "name": "#%%\n",
     "is_executing": false
    }
   }
  },
  {
   "cell_type": "code",
   "execution_count": 7,
   "outputs": [],
   "source": [
    "    df_out = summary(df, db_out)\n",
    "    fn_out = \"summary_{}.txt\".format(ion_mode)\n",
    "    df_out.to_csv(fn_out, sep=\"\\t\", index=False, encoding=\"utf-8\")\n",
    "\n",
    "    pdf_out = \"report_{}.pdf\".format(ion_mode)\n",
    "    plots.report(db=db_out, pdf_out=pdf_out, column_corr=\"r_value\", column_pvalue=\"p_value\",\n",
    "                 column_ppm_error=\"ppm_error\", column_adducts=\"adduct\")"
   ],
   "metadata": {
    "collapsed": false,
    "pycharm": {
     "name": "#%%\n",
     "is_executing": false
    }
   }
  }
 ],
 "metadata": {
  "language_info": {
   "codemirror_mode": {
    "name": "ipython",
    "version": 2
   },
   "file_extension": ".py",
   "mimetype": "text/x-python",
   "name": "python",
   "nbconvert_exporter": "python",
   "pygments_lexer": "ipython2",
   "version": "2.7.6"
  },
  "kernelspec": {
   "name": "python3",
   "language": "python",
   "display_name": "Python 3"
  },
  "pycharm": {
   "stem_cell": {
    "cell_type": "raw",
    "source": [],
    "metadata": {
     "collapsed": false
    }
   }
  }
 },
 "nbformat": 4,
 "nbformat_minor": 0
}